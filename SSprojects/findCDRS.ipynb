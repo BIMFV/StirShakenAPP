{
 "cells": [
  {
   "cell_type": "code",
   "execution_count": 1,
   "metadata": {},
   "outputs": [
    {
     "ename": "InterfaceError",
     "evalue": "('28000', \"[28000] [Microsoft][ODBC Driver 18 for SQL Server][SQL Server]Login failed for user 'mfvilla'. (18456) (SQLDriverConnect)\")",
     "output_type": "error",
     "traceback": [
      "\u001b[0;31m---------------------------------------------------------------------------\u001b[0m",
      "\u001b[0;31mInterfaceError\u001b[0m                            Traceback (most recent call last)",
      "Cell \u001b[0;32mIn[1], line 12\u001b[0m\n\u001b[1;32m      7\u001b[0m password \u001b[38;5;241m=\u001b[39m \u001b[38;5;124m'\u001b[39m\u001b[38;5;124maQ-ATd5Kk-NgVfD\u001b[39m\u001b[38;5;124m'\u001b[39m\n\u001b[1;32m     11\u001b[0m connection_string \u001b[38;5;241m=\u001b[39m \u001b[38;5;124mf\u001b[39m\u001b[38;5;124m'\u001b[39m\u001b[38;5;124mDRIVER=\u001b[39m\u001b[38;5;130;01m{{\u001b[39;00m\u001b[38;5;124mODBC Driver 18 for SQL Server\u001b[39m\u001b[38;5;130;01m}}\u001b[39;00m\u001b[38;5;124m;SERVER=\u001b[39m\u001b[38;5;132;01m{\u001b[39;00mserver_name\u001b[38;5;132;01m}\u001b[39;00m\u001b[38;5;124m;DATABASE=\u001b[39m\u001b[38;5;132;01m{\u001b[39;00mdatabase_name\u001b[38;5;132;01m}\u001b[39;00m\u001b[38;5;124m;UID=\u001b[39m\u001b[38;5;132;01m{\u001b[39;00musername\u001b[38;5;132;01m}\u001b[39;00m\u001b[38;5;124m;PWD=\u001b[39m\u001b[38;5;132;01m{\u001b[39;00mpassword\u001b[38;5;132;01m}\u001b[39;00m\u001b[38;5;124m;LOGIN_TIMEOUT=30\u001b[39m\u001b[38;5;124m'\u001b[39m\n\u001b[0;32m---> 12\u001b[0m connection \u001b[38;5;241m=\u001b[39m pyodbc\u001b[38;5;241m.\u001b[39mconnect(connection_string)\n\u001b[1;32m     14\u001b[0m \u001b[38;5;66;03m# Create a cursor from the connection\u001b[39;00m\n\u001b[1;32m     15\u001b[0m cursor \u001b[38;5;241m=\u001b[39m connection\u001b[38;5;241m.\u001b[39mcursor()\n",
      "\u001b[0;31mInterfaceError\u001b[0m: ('28000', \"[28000] [Microsoft][ODBC Driver 18 for SQL Server][SQL Server]Login failed for user 'mfvilla'. (18456) (SQLDriverConnect)\")"
     ]
    }
   ],
   "source": [
    "import pyodbc\n",
    "\n",
    "\n",
    "server_name = 'identidadvoip.database.windows.net'\n",
    "database_name = 'master'\n",
    "username = 'mfvilla'\n",
    "password = 'aQ-ATd5Kk-NgVfD'\n",
    "\n",
    "\n",
    "\n",
    "connection_string = f'DRIVER={{ODBC Driver 18 for SQL Server}};SERVER={server_name};DATABASE={database_name};UID={username};PWD={password};LOGIN_TIMEOUT=30'\n",
    "connection = pyodbc.connect(connection_string)\n",
    "\n",
    "# Create a cursor from the connection\n",
    "cursor = connection.cursor()\n",
    "\n",
    "  # Query to retrieve databases\n",
    "query = \"SELECT name FROM sys.databases WHERE name NOT IN ('master', 'tempdb', 'model', 'msdb')\"\n",
    "cursor.execute(query)\n",
    "\n",
    "# Fetch all database names\n",
    "databases = cursor.fetchall()\n",
    "\n",
    "# Print the list of databases\n",
    "print(\"Databases on the server:\")\n",
    "for db in databases:\n",
    "    print(db[0])\n",
    "\n",
    "\n",
    "# Close cursor and connection\n",
    "cursor.close()\n",
    "connection.close()"
   ]
  },
  {
   "cell_type": "code",
   "execution_count": 7,
   "metadata": {},
   "outputs": [],
   "source": [
    "connection.close()"
   ]
  }
 ],
 "metadata": {
  "kernelspec": {
   "display_name": "base",
   "language": "python",
   "name": "python3"
  },
  "language_info": {
   "codemirror_mode": {
    "name": "ipython",
    "version": 3
   },
   "file_extension": ".py",
   "mimetype": "text/x-python",
   "name": "python",
   "nbconvert_exporter": "python",
   "pygments_lexer": "ipython3",
   "version": "3.11.7"
  }
 },
 "nbformat": 4,
 "nbformat_minor": 2
}
